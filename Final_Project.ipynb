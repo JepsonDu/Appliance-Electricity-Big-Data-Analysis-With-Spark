{
 "cells": [
  {
   "cell_type": "markdown",
   "metadata": {},
   "source": [
    "# Group 4 Final Project"
   ]
  },
  {
   "cell_type": "markdown",
   "metadata": {},
   "source": [
    "## 1.Setup"
   ]
  },
  {
   "cell_type": "code",
   "execution_count": 1,
   "metadata": {},
   "outputs": [],
   "source": [
    "import os\n",
    "import glob\n",
    "import pandas as pd"
   ]
  },
  {
   "cell_type": "code",
   "execution_count": 2,
   "metadata": {},
   "outputs": [],
   "source": [
    "import findspark\n",
    "findspark.init()"
   ]
  },
  {
   "cell_type": "code",
   "execution_count": 3,
   "metadata": {},
   "outputs": [],
   "source": [
    "# Start SparkSession\n",
    "import findspark\n",
    "findspark.init()\n",
    "from pyspark.sql import SparkSession\n",
    "spark = SparkSession.builder.appName(\"group_project\").getOrCreate()"
   ]
  },
  {
   "cell_type": "code",
   "execution_count": 4,
   "metadata": {},
   "outputs": [],
   "source": [
    "from pyspark import SparkContext, SparkConf\n",
    "sc = spark.sparkContext"
   ]
  },
  {
   "cell_type": "code",
   "execution_count": 5,
   "metadata": {},
   "outputs": [
    {
     "data": {
      "text/html": [
       "\n",
       "            <div>\n",
       "                <p><b>SparkSession - in-memory</b></p>\n",
       "                \n",
       "        <div>\n",
       "            <p><b>SparkContext</b></p>\n",
       "\n",
       "            <p><a href=\"http://ip-172-31-70-24.ec2.internal:4040\">Spark UI</a></p>\n",
       "\n",
       "            <dl>\n",
       "              <dt>Version</dt>\n",
       "                <dd><code>v2.4.4</code></dd>\n",
       "              <dt>Master</dt>\n",
       "                <dd><code>yarn</code></dd>\n",
       "              <dt>AppName</dt>\n",
       "                <dd><code>group_project</code></dd>\n",
       "            </dl>\n",
       "        </div>\n",
       "        \n",
       "            </div>\n",
       "        "
      ],
      "text/plain": [
       "<pyspark.sql.session.SparkSession at 0x7f54b9e723d0>"
      ]
     },
     "execution_count": 5,
     "metadata": {},
     "output_type": "execute_result"
    }
   ],
   "source": [
    "spark"
   ]
  },
  {
   "cell_type": "code",
   "execution_count": 6,
   "metadata": {},
   "outputs": [
    {
     "data": {
      "text/html": [
       "\n",
       "        <div>\n",
       "            <p><b>SparkContext</b></p>\n",
       "\n",
       "            <p><a href=\"http://ip-172-31-70-24.ec2.internal:4040\">Spark UI</a></p>\n",
       "\n",
       "            <dl>\n",
       "              <dt>Version</dt>\n",
       "                <dd><code>v2.4.4</code></dd>\n",
       "              <dt>Master</dt>\n",
       "                <dd><code>yarn</code></dd>\n",
       "              <dt>AppName</dt>\n",
       "                <dd><code>group_project</code></dd>\n",
       "            </dl>\n",
       "        </div>\n",
       "        "
      ],
      "text/plain": [
       "<SparkContext master=yarn appName=group_project>"
      ]
     },
     "execution_count": 6,
     "metadata": {},
     "output_type": "execute_result"
    }
   ],
   "source": [
    "sc"
   ]
  },
  {
   "cell_type": "markdown",
   "metadata": {},
   "source": [
    "## 2.Load dataset"
   ]
  },
  {
   "cell_type": "markdown",
   "metadata": {},
   "source": [
    "#### There are totally 34 electrical appliances and we import the records for the living room desk lamp first."
   ]
  },
  {
   "cell_type": "code",
   "execution_count": 10,
   "metadata": {},
   "outputs": [],
   "source": [
    "df = spark.read\\\n",
    "  .format('csv')\\\n",
    "  .option('header', 'true')\\\n",
    "  .option('inferSchema', 'true')\\\n",
    "  .load('s3://bigdata-groupproject/Blue/*,101,*.csv')"
   ]
  },
  {
   "cell_type": "code",
   "execution_count": 11,
   "metadata": {},
   "outputs": [
    {
     "name": "stdout",
     "output_type": "stream",
     "text": [
      "+---------+------------------+------------------+--------------------+------------------+\n",
      "|      _c0|           X_Value|         Current A|           Current B|          VoltageA|\n",
      "+---------+------------------+------------------+--------------------+------------------+\n",
      "|458902021|115821.23508299999|          1.251582|            0.096248|49.691584999999996|\n",
      "|458902022|     115821.235167|          1.166674|-0.00917999999999...|54.835376000000004|\n",
      "|458902023|      115821.23525|1.1454469999999999|           -0.072437|59.663596999999996|\n",
      "|458902024|115821.23533299999|1.1454469999999999|           -0.346551| 64.77583100000001|\n",
      "+---------+------------------+------------------+--------------------+------------------+\n",
      "only showing top 4 rows\n",
      "\n"
     ]
    }
   ],
   "source": [
    "df.show(4)"
   ]
  },
  {
   "cell_type": "markdown",
   "metadata": {},
   "source": [
    "#### number of records"
   ]
  },
  {
   "cell_type": "code",
   "execution_count": 12,
   "metadata": {},
   "outputs": [
    {
     "data": {
      "text/plain": [
       "260400"
      ]
     },
     "execution_count": 12,
     "metadata": {},
     "output_type": "execute_result"
    }
   ],
   "source": [
    "df.count()"
   ]
  },
  {
   "cell_type": "code",
   "execution_count": 13,
   "metadata": {},
   "outputs": [],
   "source": [
    "from pyspark.sql.functions import lit"
   ]
  },
  {
   "cell_type": "markdown",
   "metadata": {},
   "source": [
    "#### Then we fixed table with their unique code and name of appliance"
   ]
  },
  {
   "cell_type": "code",
   "execution_count": 14,
   "metadata": {},
   "outputs": [],
   "source": [
    "df = df.withColumn(\"code\", lit(101))  \n",
    "df = df.withColumn(\"appliance\", lit('Living Room Desk Lamp'))"
   ]
  },
  {
   "cell_type": "code",
   "execution_count": 15,
   "metadata": {},
   "outputs": [
    {
     "name": "stdout",
     "output_type": "stream",
     "text": [
      "+---------+------------------+------------------+--------------------+------------------+----+--------------------+\n",
      "|      _c0|           X_Value|         Current A|           Current B|          VoltageA|code|           appliance|\n",
      "+---------+------------------+------------------+--------------------+------------------+----+--------------------+\n",
      "|458902021|115821.23508299999|          1.251582|            0.096248|49.691584999999996| 101|Living Room Desk ...|\n",
      "|458902022|     115821.235167|          1.166674|-0.00917999999999...|54.835376000000004| 101|Living Room Desk ...|\n",
      "|458902023|      115821.23525|1.1454469999999999|           -0.072437|59.663596999999996| 101|Living Room Desk ...|\n",
      "|458902024|115821.23533299999|1.1454469999999999|           -0.346551| 64.77583100000001| 101|Living Room Desk ...|\n",
      "+---------+------------------+------------------+--------------------+------------------+----+--------------------+\n",
      "only showing top 4 rows\n",
      "\n"
     ]
    }
   ],
   "source": [
    "df.show(4)"
   ]
  },
  {
   "cell_type": "markdown",
   "metadata": {},
   "source": [
    "#### We tried to use dictionary and loop to import the whole dataset to the Spark Dataframe."
   ]
  },
  {
   "cell_type": "code",
   "execution_count": 16,
   "metadata": {},
   "outputs": [],
   "source": [
    "Dict = {#'101': 'Living Room Desk Lamp',\n",
    " '102': 'Living Room Tall Desk Lamp',\n",
    " '103': 'Garage Door',\n",
    " '108': 'Kitchen Aid Chopper',\n",
    " '111': 'Refrigerator',\n",
    " '112': 'Living Room A/V System',\n",
    " '118': 'Computer 1',\n",
    " '120': 'Laptop 1',\n",
    " '123': 'Basement Receiver/DVR/Blueray Player',\n",
    " '127': 'Air Compressor',\n",
    " '128': 'LCD Monitor 1',\n",
    " '129': 'TV',\n",
    " '131': 'Printer',\n",
    " '132': 'Hair Dryer',\n",
    " '135': 'Living Room Empty Socket',\n",
    " '140': 'Monitor 2',\n",
    " '147': 'Backyard Lights',\n",
    " '149': 'Office lights',\n",
    " '150': 'Closet light',\n",
    " '151': 'Upstairs hallway light',\n",
    " '152': 'Hallway stairs light',\n",
    " '155': 'Kitchen overhead light',\n",
    " '156': 'Bathroom upstairs lights',\n",
    " '157': 'Dining Room overhead light',\n",
    " '158': 'Bedroom lights',\n",
    " '159': 'Basement lights',\n",
    " '204': 'Circuit 4',\n",
    " '207': 'Circuit 7',\n",
    " '209': 'Circuit 9',\n",
    " '210': 'Circuit 10',\n",
    " '211': 'Circuit 11'}"
   ]
  },
  {
   "cell_type": "code",
   "execution_count": 17,
   "metadata": {},
   "outputs": [],
   "source": [
    "url = 's3://bigdata-groupproject/Blue/*,Y,*.csv'\n",
    "for i,(key,val) in enumerate(Dict.items()):\n",
    "    new_url = url.replace(\"Y\", str(key))\n",
    "    data= spark.read\\\n",
    "          .format('csv')\\\n",
    "          .option('header', 'true')\\\n",
    "          .option('inferSchema', 'true')\\\n",
    "          .load(new_url)\n",
    "    data= data.withColumn(\"code\", lit(key))\n",
    "    data= data.withColumn(\"appliance\", lit(val))\n",
    "    df = df.union(data)"
   ]
  },
  {
   "cell_type": "markdown",
   "metadata": {},
   "source": [
    "#### Display total number of records"
   ]
  },
  {
   "cell_type": "code",
   "execution_count": 18,
   "metadata": {},
   "outputs": [
    {
     "data": {
      "text/plain": [
       "19195200"
      ]
     },
     "execution_count": 18,
     "metadata": {},
     "output_type": "execute_result"
    }
   ],
   "source": [
    "df.count()"
   ]
  },
  {
   "cell_type": "markdown",
   "metadata": {},
   "source": [
    "#### Add Necessary Column of Data"
   ]
  },
  {
   "cell_type": "code",
   "execution_count": 19,
   "metadata": {},
   "outputs": [],
   "source": [
    "# Sort the data based on the first column\n",
    "data_all = df.orderBy(\"_c0\",ascending=True )"
   ]
  },
  {
   "cell_type": "code",
   "execution_count": 20,
   "metadata": {},
   "outputs": [
    {
     "name": "stdout",
     "output_type": "stream",
     "text": [
      "+-------+------------+-------------------+---------+-------------------+----+---------+\n",
      "|    _c0|     X_Value|          Current A|Current B|           VoltageA|code|appliance|\n",
      "+-------+------------+-------------------+---------+-------------------+----+---------+\n",
      "|2089009|39087.584083|0.33881999999999995| 0.054077|         -20.301841| 140|Monitor 2|\n",
      "|2089010|39087.584167|           0.381274|-0.051351|-15.000264999999999| 140|Monitor 2|\n",
      "|2089011| 39087.58425|           0.466182|-0.177866|          -9.446233| 140|Monitor 2|\n",
      "|2089012|39087.584333|            0.55109|-0.283294|          -3.860644| 140|Monitor 2|\n",
      "|2089013|39087.584417|           0.614771|-0.409808|           1.661831| 140|Monitor 2|\n",
      "+-------+------------+-------------------+---------+-------------------+----+---------+\n",
      "only showing top 5 rows\n",
      "\n"
     ]
    }
   ],
   "source": [
    "data_all.show(5)"
   ]
  },
  {
   "cell_type": "code",
   "execution_count": 21,
   "metadata": {},
   "outputs": [],
   "source": [
    "# Add the column of power (currentA * VoltageA)\n",
    "data_all = data_all.withColumn(\"power\", data_all['Current A']*data_all['VoltageA'] )  "
   ]
  },
  {
   "cell_type": "code",
   "execution_count": 22,
   "metadata": {},
   "outputs": [
    {
     "name": "stdout",
     "output_type": "stream",
     "text": [
      "+-------+------------+-------------------+---------+-------------------+----+---------+------------------+\n",
      "|    _c0|     X_Value|          Current A|Current B|           VoltageA|code|appliance|             power|\n",
      "+-------+------------+-------------------+---------+-------------------+----+---------+------------------+\n",
      "|2089009|39087.584083|0.33881999999999995| 0.054077|         -20.301841| 140|Monitor 2|-6.878669767619999|\n",
      "|2089010|39087.584167|           0.381274|-0.051351|-15.000264999999999| 140|Monitor 2|-5.719211037609999|\n",
      "|2089011| 39087.58425|           0.466182|-0.177866|          -9.446233| 140|Monitor 2|-4.403663792405999|\n",
      "|2089012|39087.584333|            0.55109|-0.283294|          -3.860644| 140|Monitor 2|    -2.12756230196|\n",
      "|2089013|39087.584417|           0.614771|-0.409808|           1.661831| 140|Monitor 2|1.0216455057009999|\n",
      "+-------+------------+-------------------+---------+-------------------+----+---------+------------------+\n",
      "only showing top 5 rows\n",
      "\n"
     ]
    }
   ],
   "source": [
    "data_all.show(5)"
   ]
  },
  {
   "cell_type": "code",
   "execution_count": 24,
   "metadata": {},
   "outputs": [],
   "source": [
    "#create absolute power of the appliance\n",
    "from pyspark.sql.functions import abs\n",
    "data_all = data_all.withColumn('Absolute_power',abs(data_all.power))"
   ]
  },
  {
   "cell_type": "code",
   "execution_count": 25,
   "metadata": {},
   "outputs": [
    {
     "name": "stdout",
     "output_type": "stream",
     "text": [
      "+-------+------------+-------------------+---------+-------------------+----+---------+------------------+------------------+\n",
      "|    _c0|     X_Value|          Current A|Current B|           VoltageA|code|appliance|             power|    Absolute_power|\n",
      "+-------+------------+-------------------+---------+-------------------+----+---------+------------------+------------------+\n",
      "|2089009|39087.584083|0.33881999999999995| 0.054077|         -20.301841| 140|Monitor 2|-6.878669767619999| 6.878669767619999|\n",
      "|2089010|39087.584167|           0.381274|-0.051351|-15.000264999999999| 140|Monitor 2|-5.719211037609999| 5.719211037609999|\n",
      "|2089011| 39087.58425|           0.466182|-0.177866|          -9.446233| 140|Monitor 2|-4.403663792405999| 4.403663792405999|\n",
      "|2089012|39087.584333|            0.55109|-0.283294|          -3.860644| 140|Monitor 2|    -2.12756230196|     2.12756230196|\n",
      "|2089013|39087.584417|           0.614771|-0.409808|           1.661831| 140|Monitor 2|1.0216455057009999|1.0216455057009999|\n",
      "+-------+------------+-------------------+---------+-------------------+----+---------+------------------+------------------+\n",
      "only showing top 5 rows\n",
      "\n"
     ]
    }
   ],
   "source": [
    "data_all.show(5)"
   ]
  },
  {
   "cell_type": "code",
   "execution_count": 26,
   "metadata": {},
   "outputs": [],
   "source": [
    "# Add the column of resistance ( VoltageA/currentA)\n",
    "data_all = data_all \\\n",
    "    .withColumn(\"resistance\", abs(data_all['VoltageA']/data_all['Current A']) )  "
   ]
  },
  {
   "cell_type": "code",
   "execution_count": 27,
   "metadata": {},
   "outputs": [
    {
     "name": "stdout",
     "output_type": "stream",
     "text": [
      "+-------+------------+-------------------+---------+-------------------+----+---------+------------------+------------------+------------------+\n",
      "|    _c0|     X_Value|          Current A|Current B|           VoltageA|code|appliance|             power|    Absolute_power|        resistance|\n",
      "+-------+------------+-------------------+---------+-------------------+----+---------+------------------+------------------+------------------+\n",
      "|2089009|39087.584083|0.33881999999999995| 0.054077|         -20.301841| 140|Monitor 2|-6.878669767619999| 6.878669767619999| 59.91925211026504|\n",
      "|2089010|39087.584167|           0.381274|-0.051351|-15.000264999999999| 140|Monitor 2|-5.719211037609999| 5.719211037609999| 39.34248073563894|\n",
      "|2089011| 39087.58425|           0.466182|-0.177866|          -9.446233| 140|Monitor 2|-4.403663792405999| 4.403663792405999|20.262972401336818|\n",
      "|2089012|39087.584333|            0.55109|-0.283294|          -3.860644| 140|Monitor 2|    -2.12756230196|     2.12756230196|  7.00546916111706|\n",
      "|2089013|39087.584417|           0.614771|-0.409808|           1.661831| 140|Monitor 2|1.0216455057009999|1.0216455057009999| 2.703170774158183|\n",
      "+-------+------------+-------------------+---------+-------------------+----+---------+------------------+------------------+------------------+\n",
      "only showing top 5 rows\n",
      "\n"
     ]
    }
   ],
   "source": [
    "data_all.show(5)"
   ]
  },
  {
   "cell_type": "markdown",
   "metadata": {},
   "source": [
    "## 3.SQL Query and visualization"
   ]
  },
  {
   "cell_type": "markdown",
   "metadata": {},
   "source": [
    "#### First analyze the power of the different appliance of the house"
   ]
  },
  {
   "cell_type": "code",
   "execution_count": 28,
   "metadata": {},
   "outputs": [],
   "source": [
    "data_all.createOrReplaceTempView(\"data_all\")"
   ]
  },
  {
   "cell_type": "code",
   "execution_count": 29,
   "metadata": {},
   "outputs": [],
   "source": [
    "data_power = spark \\\n",
    "    .sql('select appliance, AVG(power) AS average_power from data_all group by appliance order by AVG(power) ')"
   ]
  },
  {
   "cell_type": "code",
   "execution_count": 30,
   "metadata": {},
   "outputs": [
    {
     "name": "stdout",
     "output_type": "stream",
     "text": [
      "+--------------------+------------------+\n",
      "|           appliance|     average_power|\n",
      "+--------------------+------------------+\n",
      "|             Printer| 39.69713796553977|\n",
      "|Living Room Desk ...| 71.97980883445638|\n",
      "|Living Room Tall ...| 71.98347106297597|\n",
      "|           Circuit 4| 81.19265698388472|\n",
      "|Dining Room overh...| 83.07160465023712|\n",
      "|          Computer 1| 84.77849687061949|\n",
      "|                  TV| 91.46538749804859|\n",
      "|Basement Receiver...|  98.9697841959416|\n",
      "|Kitchen overhead ...|100.86606691686337|\n",
      "|           Circuit 9|101.42460639586068|\n",
      "|       LCD Monitor 1|101.68506550115896|\n",
      "|Living Room A/V S...|102.75016448577107|\n",
      "|     Basement lights|106.97749829531442|\n",
      "|       Office lights|107.99929585340014|\n",
      "|Upstairs hallway ...|108.48017075365411|\n",
      "|Hallway stairs light|109.70690293299931|\n",
      "|           Monitor 2|118.79865417779827|\n",
      "|            Laptop 1|120.86634506584032|\n",
      "|        Closet light|139.19725205260818|\n",
      "|          Circuit 11|147.01615289952835|\n",
      "+--------------------+------------------+\n",
      "only showing top 20 rows\n",
      "\n"
     ]
    }
   ],
   "source": [
    "data_power.show()"
   ]
  },
  {
   "cell_type": "code",
   "execution_count": 31,
   "metadata": {},
   "outputs": [
    {
     "name": "stderr",
     "output_type": "stream",
     "text": [
      "/home/hadoop/miniconda/lib/python3.7/site-packages/pyarrow/util.py:39: FutureWarning: pyarrow.open_stream is deprecated as of 0.17.0, please use pyarrow.ipc.open_stream instead\n",
      "  warnings.warn(msg, FutureWarning)\n"
     ]
    }
   ],
   "source": [
    "data_power_pandas = data_power.toPandas()"
   ]
  },
  {
   "cell_type": "code",
   "execution_count": 32,
   "metadata": {},
   "outputs": [
    {
     "data": {
      "text/plain": [
       "<matplotlib.axes._subplots.AxesSubplot at 0x7f5475d27850>"
      ]
     },
     "execution_count": 32,
     "metadata": {},
     "output_type": "execute_result"
    },
    {
     "data": {
      "image/png": "[encoded data removed]",
      "text/plain": [
       "<Figure size 432x288 with 1 Axes>"
      ]
     },
     "metadata": {
      "needs_background": "light"
     },
     "output_type": "display_data"
    }
   ],
   "source": [
    "data_power_pandas.plot(kind='barh', x='appliance', y='average_power', colormap='winter_r')"
   ]
  },
  {
   "cell_type": "markdown",
   "metadata": {},
   "source": [
    "#### Then, analyze the resistance of the different appliance"
   ]
  },
  {
   "cell_type": "code",
   "execution_count": 33,
   "metadata": {},
   "outputs": [],
   "source": [
    "data_R = spark \\\n",
    "    .sql('select appliance, AVG(resistance)  AS average_R from data_all group by appliance order by AVG(resistance) ')"
   ]
  },
  {
   "cell_type": "code",
   "execution_count": 34,
   "metadata": {},
   "outputs": [
    {
     "name": "stdout",
     "output_type": "stream",
     "text": [
      "+--------------------+------------------+\n",
      "|           appliance|         average_R|\n",
      "+--------------------+------------------+\n",
      "|          Hair Dryer|  86.2254184754573|\n",
      "|     Backyard Lights|302.67783590228083|\n",
      "|          Circuit 10|417.49448107664006|\n",
      "|Living Room Empty...|478.83275396903895|\n",
      "|         Garage Door| 805.1406235880711|\n",
      "|           Circuit 7| 900.8783708444986|\n",
      "|      Bedroom lights|1186.3632908012717|\n",
      "|Bathroom upstairs...|1314.7456596391064|\n",
      "|      Air Compressor|1329.2982711622867|\n",
      "|        Closet light| 1734.932669286012|\n",
      "|          Circuit 11|1963.8850395792492|\n",
      "|        Refrigerator|2037.3400720657792|\n",
      "| Kitchen Aid Chopper|2052.2394195302754|\n",
      "|            Laptop 1|2171.3997073885585|\n",
      "|           Monitor 2|  2212.21731735702|\n",
      "|Hallway stairs light| 2360.690259561637|\n",
      "|     Basement lights|2403.0918078535888|\n",
      "|       Office lights|2508.5773703054388|\n",
      "|           Circuit 9|2573.2130374918856|\n",
      "|                  TV| 2671.513275546197|\n",
      "+--------------------+------------------+\n",
      "only showing top 20 rows\n",
      "\n"
     ]
    }
   ],
   "source": [
    "data_R.show()"
   ]
  },
  {
   "cell_type": "code",
   "execution_count": 35,
   "metadata": {},
   "outputs": [
    {
     "name": "stderr",
     "output_type": "stream",
     "text": [
      "/home/hadoop/miniconda/lib/python3.7/site-packages/pyarrow/util.py:39: FutureWarning: pyarrow.open_stream is deprecated as of 0.17.0, please use pyarrow.ipc.open_stream instead\n",
      "  warnings.warn(msg, FutureWarning)\n"
     ]
    }
   ],
   "source": [
    "data_R_pandas = data_R.toPandas()"
   ]
  },
  {
   "cell_type": "code",
   "execution_count": 36,
   "metadata": {},
   "outputs": [
    {
     "data": {
      "text/plain": [
       "<matplotlib.axes._subplots.AxesSubplot at 0x7f54751a68d0>"
      ]
     },
     "execution_count": 36,
     "metadata": {},
     "output_type": "execute_result"
    },
    {
     "data": {
      "image/png": "[encoded data removed]",
      "text/plain": [
       "<Figure size 432x288 with 1 Axes>"
      ]
     },
     "metadata": {
      "needs_background": "light"
     },
     "output_type": "display_data"
    }
   ],
   "source": [
    "data_R_pandas.plot(kind='barh', x='appliance', y='average_R', colormap='winter_r')"
   ]
  },
  {
   "cell_type": "markdown",
   "metadata": {},
   "source": [
    "#### Finally, analyze the using time of the different appliance"
   ]
  },
  {
   "cell_type": "code",
   "execution_count": 37,
   "metadata": {},
   "outputs": [],
   "source": [
    "data_Freq = spark \\\n",
    "    .sql('select appliance, COUNT(appliance)  AS frequency from data_all group by appliance order by COUNT(appliance)  ')\n"
   ]
  },
  {
   "cell_type": "code",
   "execution_count": 38,
   "metadata": {},
   "outputs": [
    {
     "name": "stdout",
     "output_type": "stream",
     "text": [
      "+--------------------+---------+\n",
      "|           appliance|frequency|\n",
      "+--------------------+---------+\n",
      "| Kitchen Aid Chopper|    37200|\n",
      "|Living Room Empty...|    37200|\n",
      "|          Hair Dryer|    37200|\n",
      "|     Backyard Lights|    74400|\n",
      "|      Bedroom lights|    74400|\n",
      "|            Laptop 1|   130200|\n",
      "|Living Room A/V S...|   130200|\n",
      "|      Air Compressor|   148800|\n",
      "|Upstairs hallway ...|   186000|\n",
      "|        Closet light|   186000|\n",
      "|         Garage Door|   223200|\n",
      "|Living Room Tall ...|   260400|\n",
      "|Living Room Desk ...|   260400|\n",
      "|           Circuit 7|   260400|\n",
      "|Basement Receiver...|   260400|\n",
      "|                  TV|   297600|\n",
      "|     Basement lights|   297600|\n",
      "|          Computer 1|   316200|\n",
      "|           Circuit 4|   334800|\n",
      "|Dining Room overh...|   372000|\n",
      "+--------------------+---------+\n",
      "only showing top 20 rows\n",
      "\n"
     ]
    }
   ],
   "source": [
    "data_Freq.show()"
   ]
  },
  {
   "cell_type": "code",
   "execution_count": 39,
   "metadata": {},
   "outputs": [],
   "source": [
    "data_Freq_pandas = data_Freq.toPandas()"
   ]
  },
  {
   "cell_type": "code",
   "execution_count": 40,
   "metadata": {},
   "outputs": [
    {
     "data": {
      "text/plain": [
       "<matplotlib.axes._subplots.AxesSubplot at 0x7f547503b150>"
      ]
     },
     "execution_count": 40,
     "metadata": {},
     "output_type": "execute_result"
    },
    {
     "data": {
      "image/png": "[encoded data removed]",
      "text/plain": [
       "<Figure size 432x288 with 1 Axes>"
      ]
     },
     "metadata": {
      "needs_background": "light"
     },
     "output_type": "display_data"
    }
   ],
   "source": [
    "data_Freq_pandas.plot(kind='barh', x='appliance', y='frequency', colormap='winter_r')"
   ]
  },
  {
   "cell_type": "markdown",
   "metadata": {},
   "source": [
    "## 4.Model Building"
   ]
  },
  {
   "cell_type": "markdown",
   "metadata": {},
   "source": [
    "- Our target is building a prediction model to predict the appliance based on the other info\n"
   ]
  },
  {
   "cell_type": "markdown",
   "metadata": {},
   "source": [
    "#### Data Preparation"
   ]
  },
  {
   "cell_type": "code",
   "execution_count": 41,
   "metadata": {},
   "outputs": [],
   "source": [
    "data_model = data_all.drop('code')"
   ]
  },
  {
   "cell_type": "code",
   "execution_count": 42,
   "metadata": {},
   "outputs": [],
   "source": [
    "data_model = data_model.drop('_c0')"
   ]
  },
  {
   "cell_type": "code",
   "execution_count": 43,
   "metadata": {},
   "outputs": [
    {
     "name": "stdout",
     "output_type": "stream",
     "text": [
      "+------------+-------------------+---------+-------------------+---------+------------------+-----------------+------------------+\n",
      "|     X_Value|          Current A|Current B|           VoltageA|appliance|             power|   Absolute_power|        resistance|\n",
      "+------------+-------------------+---------+-------------------+---------+------------------+-----------------+------------------+\n",
      "|39087.584083|0.33881999999999995| 0.054077|         -20.301841|Monitor 2|-6.878669767619999|6.878669767619999| 59.91925211026504|\n",
      "|39087.584167|           0.381274|-0.051351|-15.000264999999999|Monitor 2|-5.719211037609999|5.719211037609999| 39.34248073563894|\n",
      "| 39087.58425|           0.466182|-0.177866|          -9.446233|Monitor 2|-4.403663792405999|4.403663792405999|20.262972401336818|\n",
      "|39087.584333|            0.55109|-0.283294|          -3.860644|Monitor 2|    -2.12756230196|    2.12756230196|  7.00546916111706|\n",
      "+------------+-------------------+---------+-------------------+---------+------------------+-----------------+------------------+\n",
      "only showing top 4 rows\n",
      "\n"
     ]
    }
   ],
   "source": [
    "data_model.show(4)"
   ]
  },
  {
   "cell_type": "code",
   "execution_count": 44,
   "metadata": {},
   "outputs": [
    {
     "name": "stdout",
     "output_type": "stream",
     "text": [
      "Number of training records: 15359206\n",
      "Number of testing records : 3452888\n",
      "Number of prediction records : 383106\n"
     ]
    }
   ],
   "source": [
    "splitted_data = data_model.randomSplit([0.8, 0.18, 0.02], 24)\n",
    "train_data = splitted_data[0]\n",
    "test_data = splitted_data[1]\n",
    "predict_data = splitted_data[2]\n",
    "\n",
    "print(\"Number of training records: \" + str(train_data.count()))\n",
    "print(\"Number of testing records : \" + str(test_data.count()))\n",
    "print(\"Number of prediction records : \" + str(predict_data.count()))"
   ]
  },
  {
   "cell_type": "markdown",
   "metadata": {},
   "source": [
    "#### Create pipeline and train model"
   ]
  },
  {
   "cell_type": "code",
   "execution_count": 45,
   "metadata": {},
   "outputs": [],
   "source": [
    "from pyspark.ml.feature import OneHotEncoder, StringIndexer, IndexToString, VectorAssembler\n",
    "from pyspark.ml.classification import RandomForestClassifier\n",
    "from pyspark.ml.evaluation import MulticlassClassificationEvaluator\n",
    "from pyspark.ml import Pipeline, Model"
   ]
  },
  {
   "cell_type": "code",
   "execution_count": 46,
   "metadata": {},
   "outputs": [],
   "source": [
    "stringIndexer_label = StringIndexer(inputCol=\"appliance\", outputCol=\"label\")#.fit(df_data)\n"
   ]
  },
  {
   "cell_type": "code",
   "execution_count": 47,
   "metadata": {},
   "outputs": [],
   "source": [
    "si_label_fit = StringIndexer(inputCol=\"appliance\", outputCol=\"label\").fit(data_model)"
   ]
  },
  {
   "cell_type": "code",
   "execution_count": 48,
   "metadata": {},
   "outputs": [
    {
     "data": {
      "text/plain": [
       "['Circuit 11',\n",
       " 'Refrigerator',\n",
       " 'Printer',\n",
       " 'Monitor 2',\n",
       " 'Bathroom upstairs lights',\n",
       " 'LCD Monitor 1',\n",
       " 'Circuit 10',\n",
       " 'Hallway stairs light',\n",
       " 'Kitchen overhead light',\n",
       " 'Office lights',\n",
       " 'Dining Room overhead light',\n",
       " 'Circuit 9',\n",
       " 'Circuit 4',\n",
       " 'Computer 1',\n",
       " 'Basement lights',\n",
       " 'TV',\n",
       " 'Basement Receiver/DVR/Blueray Player',\n",
       " 'Living Room Desk Lamp',\n",
       " 'Circuit 7',\n",
       " 'Living Room Tall Desk Lamp',\n",
       " 'Garage Door',\n",
       " 'Closet light',\n",
       " 'Upstairs hallway light',\n",
       " 'Air Compressor',\n",
       " 'Living Room A/V System',\n",
       " 'Laptop 1',\n",
       " 'Bedroom lights',\n",
       " 'Backyard Lights',\n",
       " 'Kitchen Aid Chopper',\n",
       " 'Living Room Empty Socket',\n",
       " 'Hair Dryer']"
      ]
     },
     "execution_count": 48,
     "metadata": {},
     "output_type": "execute_result"
    }
   ],
   "source": [
    "si_label_fit.labels"
   ]
  },
  {
   "cell_type": "code",
   "execution_count": 49,
   "metadata": {},
   "outputs": [],
   "source": [
    "#In the following step, create a feature vector by combining all string features together usinf the vectorAssembler method\n",
    "\n",
    "vectorAssembler_features = VectorAssembler(\n",
    "    inputCols=[\"X_Value\", \n",
    "               \"Current A\", \n",
    "               \"Current B\", \n",
    "               \"VoltageA\",\n",
    "              \"power\",\n",
    "              \"Absolute_power\",\n",
    "              \"resistance\"], \n",
    "    outputCol=\"features\")"
   ]
  },
  {
   "cell_type": "code",
   "execution_count": 50,
   "metadata": {},
   "outputs": [],
   "source": [
    "# Build the classifier\n",
    "rf = RandomForestClassifier(labelCol=\"label\", featuresCol=\"features\")"
   ]
  },
  {
   "cell_type": "code",
   "execution_count": 51,
   "metadata": {},
   "outputs": [],
   "source": [
    "labelConverter = IndexToString(inputCol=\"prediction\", \n",
    "                               outputCol=\"predictedLabel\", \n",
    "                               labels=stringIndexer_label.fit(data_model).labels)"
   ]
  },
  {
   "cell_type": "code",
   "execution_count": 52,
   "metadata": {},
   "outputs": [],
   "source": [
    "pipeline_rf = Pipeline(stages=[stringIndexer_label, \n",
    "                               vectorAssembler_features, \n",
    "                               rf, labelConverter])"
   ]
  },
  {
   "cell_type": "code",
   "execution_count": 53,
   "metadata": {},
   "outputs": [
    {
     "name": "stdout",
     "output_type": "stream",
     "text": [
      "root\n",
      " |-- X_Value: double (nullable = true)\n",
      " |-- Current A: double (nullable = true)\n",
      " |-- Current B: double (nullable = true)\n",
      " |-- VoltageA: double (nullable = true)\n",
      " |-- appliance: string (nullable = false)\n",
      " |-- power: double (nullable = true)\n",
      " |-- Absolute_power: double (nullable = true)\n",
      " |-- resistance: double (nullable = true)\n",
      "\n"
     ]
    }
   ],
   "source": [
    "train_data.printSchema()"
   ]
  },
  {
   "cell_type": "code",
   "execution_count": 54,
   "metadata": {},
   "outputs": [],
   "source": [
    "model_rf = pipeline_rf.fit(train_data)"
   ]
  },
  {
   "cell_type": "markdown",
   "metadata": {},
   "source": [
    "check my **model accuracy**. To evaluate the model, use **test data**"
   ]
  },
  {
   "cell_type": "code",
   "execution_count": 55,
   "metadata": {},
   "outputs": [
    {
     "name": "stdout",
     "output_type": "stream",
     "text": [
      "Accuracy = 0.463237\n",
      "Test Error = 0.536763\n"
     ]
    }
   ],
   "source": [
    "predictions = model_rf.transform(test_data)\n",
    "evaluatorRF = MulticlassClassificationEvaluator(labelCol=\"label\", predictionCol=\"prediction\", metricName=\"accuracy\")\n",
    "accuracy = evaluatorRF.evaluate(predictions)\n",
    "\n",
    "print(\"Accuracy = %g\" % accuracy)\n",
    "print(\"Test Error = %g\" % (1.0 - accuracy))"
   ]
  },
  {
   "cell_type": "code",
   "execution_count": 56,
   "metadata": {},
   "outputs": [
    {
     "name": "stdout",
     "output_type": "stream",
     "text": [
      "+------------------+-------------------+-------------------+-------------------+--------------------+-------------------+------------------+------------------+-----+--------------------+--------------------+--------------------+----------+--------------+\n",
      "|           X_Value|          Current A|          Current B|           VoltageA|           appliance|              power|    Absolute_power|        resistance|label|            features|       rawPrediction|         probability|prediction|predictedLabel|\n",
      "+------------------+-------------------+-------------------+-------------------+--------------------+-------------------+------------------+------------------+-----+--------------------+--------------------+--------------------+----------+--------------+\n",
      "|115821.23508299999|           1.251582|           0.096248| 49.691584999999996|Living Room Desk ...| 62.193093337469996|62.193093337469996| 39.70301985806763| 18.0|[115821.235082999...|[0.51211857121219...|[0.02560592856060...|       1.0|  Refrigerator|\n",
      "|115821.23533299999| 1.1454469999999999|          -0.346551|  64.77583100000001|Living Room Desk ...|    74.197281291457|   74.197281291457| 56.55070116731723| 18.0|[115821.235332999...|[0.51211857121219...|[0.02560592856060...|       1.0|  Refrigerator|\n",
      "|115821.23616700001| 0.9756309999999999|          -1.653864|          109.17653|Living Room Desk ...| 106.51600714042999|106.51600714042999|111.90350655114486| 18.0|[115821.236167000...|[0.51211857121219...|[0.02560592856060...|       1.0|  Refrigerator|\n",
      "|      115821.23625|            0.91195|          -1.801464| 113.91008000000001|Living Room Desk ...| 103.88029745600001|103.88029745600001|124.90825154887878| 18.0|[115821.23625,0.9...|[0.51211857121219...|[0.02560592856060...|       1.0|  Refrigerator|\n",
      "|     115821.236667| 0.8694959999999999|-3.5304910000000005|         129.625466|Living Room Desk ...| 112.70882418513598|112.70882418513598|149.08115275975968| 18.0|[115821.236667,0....|[0.51211857121219...|[0.02560592856060...|       1.0|  Refrigerator|\n",
      "|     115821.237333|           0.529863|          -7.115059| 151.24201100000002|Living Room Desk ...|  80.13754567449301| 80.13754567449301| 285.4360674362996| 18.0|[115821.237333,0....|[0.26750802771427...|[0.01337540138571...|       1.0|  Refrigerator|\n",
      "|115821.23783299999|           0.529863|          -7.789801|         162.129176|Living Room Desk ...|  85.90625158288799| 85.90625158288799| 305.9831994307963| 18.0|[115821.237832999...|[0.26750802771427...|[0.01337540138571...|       1.0|  Refrigerator|\n",
      "|     115821.238167|           2.843608| -9.160371000000001|         167.399195|Living Room Desk ...|    476.01769009556|   476.01769009556| 58.86859053709231| 18.0|[115821.238167,2....|[0.19924562139135...|[0.00996228106956...|       1.0|  Refrigerator|\n",
      "|     115821.239167|           0.232685|         -10.805055|          171.65939|Living Room Desk ...| 39.942565162150004|39.942565162150004|  737.732943679223| 18.0|[115821.239167,0....|[0.26750802771427...|[0.01337540138571...|       1.0|  Refrigerator|\n",
      "|115821.23933299999|           0.041642|         -10.024884|         171.564719|Living Room Desk ...|     7.144298028598|    7.144298028598| 4119.992291436531| 18.0|[115821.239332999...|[0.26750802771427...|[0.01337540138571...|       1.0|  Refrigerator|\n",
      "|115821.23991700001|          -0.680077|          -4.331747|         157.080056|Living Room Desk ...|-106.82653324431202|106.82653324431202|  230.973927952276| 18.0|[115821.239917000...|[0.51211857121219...|[0.02560592856060...|       1.0|  Refrigerator|\n",
      "|         115821.24|           -0.65885|          -4.163062| 154.52393899999998|Living Room Desk ...|   -101.80809721015|   101.80809721015| 234.5358412385216| 18.0|[115821.24,-0.658...|[0.51211857121219...|[0.02560592856060...|       1.0|  Refrigerator|\n",
      "|     115821.241833|          -1.040936|          -2.644892|          51.364106|Living Room Desk ...|   -53.466747043216|   53.466747043216| 49.34415372318759| 18.0|[115821.241833,-1...|[0.51211857121219...|[0.02560592856060...|       1.0|  Refrigerator|\n",
      "|     115821.242833|          -1.253206|          -1.211065|          -12.00235|Living Room Desk ...|      15.0414170341|     15.0414170341| 9.577316099667572| 18.0|[115821.242833,-1...|[0.51211857121219...|[0.02560592856060...|       1.0|  Refrigerator|\n",
      "|        115821.243|          -1.062163|          -1.000208|         -23.425984|Living Room Desk ...|    24.882213443392|   24.882213443392| 22.05498026197486| 18.0|[115821.243,-1.06...|[0.51211857121219...|[0.02560592856060...|       1.0|  Refrigerator|\n",
      "|      115821.24325|          -1.210752|          -0.388723|-39.835623999999996|Living Room Desk ...| 48.231061429247994|48.231061429247994| 32.90155539697642| 18.0|[115821.24325,-1....|[0.51211857121219...|[0.02560592856060...|       1.0|  Refrigerator|\n",
      "|     115821.243667|          -1.147071|           0.264934|         -65.807035|Living Room Desk ...|    75.485341444485|   75.485341444485| 57.36962664037362| 18.0|[115821.243667,-1...|[0.51211857121219...|[0.02560592856060...|       1.0|  Refrigerator|\n",
      "|      115821.24375|          -1.040936|           0.349277|         -70.572142|Living Room Desk ...|    73.461083204912|   73.461083204912| 67.79681171560979| 18.0|[115821.24375,-1....|[0.51211857121219...|[0.02560592856060...|       1.0|  Refrigerator|\n",
      "|115821.24391700001|          -1.062163| 0.5812189999999999|         -79.755229|Living Room Desk ...|  84.71305330032699| 84.71305330032699| 75.08756094874327| 18.0|[115821.243917000...|[0.51211857121219...|[0.02560592856060...|       1.0|  Refrigerator|\n",
      "|     115821.244667|-0.8923469999999999| 1.4879040000000001|        -118.854352|Living Room Desk ...|   106.059324444144|  106.059324444144|133.19297537841223| 18.0|[115821.244667,-0...|[0.51211857121219...|[0.02560592856060...|       1.0|  Refrigerator|\n",
      "+------------------+-------------------+-------------------+-------------------+--------------------+-------------------+------------------+------------------+-----+--------------------+--------------------+--------------------+----------+--------------+\n",
      "only showing top 20 rows\n",
      "\n"
     ]
    }
   ],
   "source": [
    "predictions.show()"
   ]
  },
  {
   "cell_type": "code",
   "execution_count": 57,
   "metadata": {},
   "outputs": [],
   "source": [
    "spark.stop()"
   ]
  },
  {
   "cell_type": "code",
   "execution_count": 58,
   "metadata": {},
   "outputs": [],
   "source": [
    "sc.stop()"
   ]
  },
  {
   "cell_type": "code",
   "execution_count": null,
   "metadata": {},
   "outputs": [],
   "source": []
  }
 ],
 "metadata": {
  "kernelspec": {
   "display_name": "Python 3",
   "language": "python",
   "name": "python3"
  },
  "language_info": {
   "codemirror_mode": {
    "name": "ipython",
    "version": 3
   },
   "file_extension": ".py",
   "mimetype": "text/x-python",
   "name": "python",
   "nbconvert_exporter": "python",
   "pygments_lexer": "ipython3",
   "version": "3.7.7"
  }
 },
 "nbformat": 4,
 "nbformat_minor": 4
}
